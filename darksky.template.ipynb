{
 "cells": [
  {
   "cell_type": "markdown",
   "metadata": {},
   "source": [
    "# Weather Forecast Sample Data Ingest\n",
    "This template fetches the current forecast for a particular zip code and persists those data to the Metis Machine data store.\n",
    "This example actually leverages two external APIs, one to query geographic coordinates for a given zip code, and the second to fetch weather data for those coordinates."
   ]
  },
  {
   "cell_type": "code",
   "execution_count": 1,
   "metadata": {},
   "outputs": [],
   "source": [
    "import os\n",
    "import requests\n",
    "from datetime import datetime\n",
    "import pandas as pd"
   ]
  },
  {
   "cell_type": "code",
   "execution_count": 2,
   "metadata": {},
   "outputs": [
    {
     "name": "stdout",
     "output_type": "stream",
     "text": [
      "initializing the SDK connection\n",
      "2018-01-05 20:04:04,223 - skafossdk.data_engine - INFO - DataEngine Connection Opened\n"
     ]
    }
   ],
   "source": [
    "from skafossdk import *\n",
    "print('initializing the SDK connection')\n",
    "skafos = Skafos()"
   ]
  },
  {
   "cell_type": "code",
   "execution_count": 4,
   "metadata": {},
   "outputs": [
    {
     "name": "stdout",
     "output_type": "stream",
     "text": [
      "2018-01-05 20:04:05,201 - skafossdk.monitor - INFO - Monitor Connection Opened\n"
     ]
    }
   ],
   "source": [
    "# Weather API Details\n",
    "weather_api_key = os.environ['DARKSKY_KEY']\n",
    "weather_api_url = \"https://api.darksky.net/forecast/\"\n",
    "\n",
    "# ZipCode to Long, Lat API Details\n",
    "location_api_key = os.environ['ZIPCODEAPI_KEY']\n",
    "location_api_url = \"https://www.zipcodeapi.com/rest/\"   "
   ]
  },
  {
   "cell_type": "code",
   "execution_count": 5,
   "metadata": {},
   "outputs": [],
   "source": [
    "def get_location_for_zip(zipcode):\n",
    "    \"\"\" use the zipcodeapi.com endpoint\n",
    "        Args:\n",
    "            zipcode (int): the requested location by zip code, cast to string if not already\n",
    "        Returns:\n",
    "            dict: dictionary containing keys 'lng' and 'lat'\n",
    "    \"\"\"\n",
    "    url = location_api_url + location_api_key + '/info.json/' + str(zipcode).strip() + '/degrees'\n",
    "    print('fetching {}'.format(url))\n",
    "    return requests.get(url).json()"
   ]
  },
  {
   "cell_type": "code",
   "execution_count": 6,
   "metadata": {},
   "outputs": [],
   "source": [
    "def get_forecast(lon, lat):\n",
    "    \"\"\" Use the darksky.net endpoint\n",
    "        Args:\n",
    "            lon (float): longitude (x coordinate) to request weather forecast for\n",
    "            lat (float): lattitude (y coordinate) to request weather forecast for\n",
    "        Returns:\n",
    "            dict: the darksky forecast json as a dictionary\n",
    "    \"\"\"\n",
    "    url = weather_api_url + weather_api_key + '/{},{}'.format(lat, lon)\n",
    "    print('fetching {}'.format(url))\n",
    "    return requests.get(url).json()"
   ]
  },
  {
   "cell_type": "code",
   "execution_count": 7,
   "metadata": {},
   "outputs": [],
   "source": [
    "location_zipcodes = [\"23250\"]  # 23250 Richmond Airport"
   ]
  },
  {
   "cell_type": "code",
   "execution_count": 8,
   "metadata": {},
   "outputs": [],
   "source": [
    "def forecast_rows(zipcodes):\n",
    "    \"\"\" Map a list of zipcodes into individual data rows containing forecast data per day\n",
    "        Args:\n",
    "            zipcodes (list(str)): locations to fetch weather forecasts for\n",
    "        Returns:\n",
    "            list(dict): data rows per forecast day, per location\n",
    "    \"\"\"\n",
    "    date_fetched = datetime.now()\n",
    "    for zipcode in zipcodes:\n",
    "        ll = get_location_for_zip(zipcode)\n",
    "        forecast = get_forecast(ll['lng'], ll['lat'])\n",
    "        for day in forecast['daily']['data']:\n",
    "            yield {\n",
    "                'source': 'Darksky',\n",
    "                'date_fetched': date_fetched,\n",
    "                'date': datetime.fromtimestamp(day['time']),\n",
    "                'zipcode': zipcode,\n",
    "                'latitude': ll['lat'],\n",
    "                'longitude': ll['lng'],\n",
    "                'tmax': day['temperatureHigh'],\n",
    "                'tmin': day['temperatureLow'],\n",
    "                'humidity': day['humidity'],\n",
    "                'wind_speed': day['windSpeed'],\n",
    "                'pressure': day['pressure'],\n",
    "                'precip_total': day['precipIntensityMax'],\n",
    "                'precip_prob': day['precipProbability'],\n",
    "                'sunrise': datetime.fromtimestamp(day['sunriseTime']),\n",
    "                'sunset': datetime.fromtimestamp(day['sunsetTime']),\n",
    "                'cloud_cover': day['cloudCover'],\n",
    "                'heat_index': day['apparentTemperatureHigh']\n",
    "            }"
   ]
  },
  {
   "cell_type": "code",
   "execution_count": 9,
   "metadata": {},
   "outputs": [
    {
     "name": "stdout",
     "output_type": "stream",
     "text": [
      "fetching https://www.zipcodeapi.com/rest/XJyHXErW0Xzm6WqyPPJDZrlSKse2jlHh4gY2UqYUoyhvuI3kxNXwejpZMD25ZJm3/info.json/23250/degrees\n",
      "fetching https://api.darksky.net/forecast/0ab192d88a91b5cbf1904ee551f58b2c/37.504787,-77.320651\n"
     ]
    }
   ],
   "source": [
    "# forecast_rows returns a list of dictionaries, which is directly convertable to a Pandas dataframe\n",
    "forecast_data = pd.DataFrame(forecast_rows(location_zipcodes))"
   ]
  },
  {
   "cell_type": "code",
   "execution_count": 10,
   "metadata": {},
   "outputs": [],
   "source": [
    "# cast datetimes to just date for persisting to the database\n",
    "forecast_data['date'] = forecast_data['date'].apply(lambda d: d.date())\n",
    "forecast_data['date_fetched'] = forecast_data['date_fetched'].apply(lambda d: d.date())"
   ]
  },
  {
   "cell_type": "code",
   "execution_count": 11,
   "metadata": {},
   "outputs": [
    {
     "data": {
      "text/html": [
       "<div>\n",
       "<style scoped>\n",
       "    .dataframe tbody tr th:only-of-type {\n",
       "        vertical-align: middle;\n",
       "    }\n",
       "\n",
       "    .dataframe tbody tr th {\n",
       "        vertical-align: top;\n",
       "    }\n",
       "\n",
       "    .dataframe thead th {\n",
       "        text-align: right;\n",
       "    }\n",
       "</style>\n",
       "<table border=\"1\" class=\"dataframe\">\n",
       "  <thead>\n",
       "    <tr style=\"text-align: right;\">\n",
       "      <th></th>\n",
       "      <th>cloud_cover</th>\n",
       "      <th>date</th>\n",
       "      <th>date_fetched</th>\n",
       "      <th>heat_index</th>\n",
       "      <th>humidity</th>\n",
       "      <th>latitude</th>\n",
       "      <th>longitude</th>\n",
       "      <th>precip_prob</th>\n",
       "      <th>precip_total</th>\n",
       "      <th>pressure</th>\n",
       "      <th>source</th>\n",
       "      <th>sunrise</th>\n",
       "      <th>sunset</th>\n",
       "      <th>tmax</th>\n",
       "      <th>tmin</th>\n",
       "      <th>wind_speed</th>\n",
       "      <th>zipcode</th>\n",
       "    </tr>\n",
       "  </thead>\n",
       "  <tbody>\n",
       "    <tr>\n",
       "      <th>0</th>\n",
       "      <td>0.00</td>\n",
       "      <td>2018-01-05</td>\n",
       "      <td>2018-01-05</td>\n",
       "      <td>16.60</td>\n",
       "      <td>0.46</td>\n",
       "      <td>37.504787</td>\n",
       "      <td>-77.320651</td>\n",
       "      <td>0.14</td>\n",
       "      <td>0.0023</td>\n",
       "      <td>1021.53</td>\n",
       "      <td>Darksky</td>\n",
       "      <td>2018-01-05 12:25:32</td>\n",
       "      <td>2018-01-05 22:06:06</td>\n",
       "      <td>24.93</td>\n",
       "      <td>6.13</td>\n",
       "      <td>6.60</td>\n",
       "      <td>23250</td>\n",
       "    </tr>\n",
       "    <tr>\n",
       "      <th>1</th>\n",
       "      <td>0.00</td>\n",
       "      <td>2018-01-06</td>\n",
       "      <td>2018-01-05</td>\n",
       "      <td>8.41</td>\n",
       "      <td>0.51</td>\n",
       "      <td>37.504787</td>\n",
       "      <td>-77.320651</td>\n",
       "      <td>0.12</td>\n",
       "      <td>0.0003</td>\n",
       "      <td>1031.82</td>\n",
       "      <td>Darksky</td>\n",
       "      <td>2018-01-06 12:25:31</td>\n",
       "      <td>2018-01-06 22:06:58</td>\n",
       "      <td>20.21</td>\n",
       "      <td>4.51</td>\n",
       "      <td>8.03</td>\n",
       "      <td>23250</td>\n",
       "    </tr>\n",
       "    <tr>\n",
       "      <th>2</th>\n",
       "      <td>0.16</td>\n",
       "      <td>2018-01-07</td>\n",
       "      <td>2018-01-05</td>\n",
       "      <td>18.87</td>\n",
       "      <td>0.51</td>\n",
       "      <td>37.504787</td>\n",
       "      <td>-77.320651</td>\n",
       "      <td>0.05</td>\n",
       "      <td>0.0002</td>\n",
       "      <td>1036.41</td>\n",
       "      <td>Darksky</td>\n",
       "      <td>2018-01-07 12:25:29</td>\n",
       "      <td>2018-01-07 22:07:51</td>\n",
       "      <td>24.01</td>\n",
       "      <td>16.07</td>\n",
       "      <td>2.02</td>\n",
       "      <td>23250</td>\n",
       "    </tr>\n",
       "  </tbody>\n",
       "</table>\n",
       "</div>"
      ],
      "text/plain": [
       "   cloud_cover        date date_fetched  heat_index  humidity   latitude  \\\n",
       "0         0.00  2018-01-05   2018-01-05       16.60      0.46  37.504787   \n",
       "1         0.00  2018-01-06   2018-01-05        8.41      0.51  37.504787   \n",
       "2         0.16  2018-01-07   2018-01-05       18.87      0.51  37.504787   \n",
       "\n",
       "   longitude  precip_prob  precip_total  pressure   source  \\\n",
       "0 -77.320651         0.14        0.0023   1021.53  Darksky   \n",
       "1 -77.320651         0.12        0.0003   1031.82  Darksky   \n",
       "2 -77.320651         0.05        0.0002   1036.41  Darksky   \n",
       "\n",
       "              sunrise              sunset   tmax   tmin  wind_speed zipcode  \n",
       "0 2018-01-05 12:25:32 2018-01-05 22:06:06  24.93   6.13        6.60   23250  \n",
       "1 2018-01-06 12:25:31 2018-01-06 22:06:58  20.21   4.51        8.03   23250  \n",
       "2 2018-01-07 12:25:29 2018-01-07 22:07:51  24.01  16.07        2.02   23250  "
      ]
     },
     "execution_count": 11,
     "metadata": {},
     "output_type": "execute_result"
    }
   ],
   "source": [
    "# validate that the returned data is what we expect\n",
    "forecast_data.iloc[:3]"
   ]
  },
  {
   "cell_type": "markdown",
   "metadata": {
    "collapsed": true
   },
   "source": [
    "### Persist forecast data\n",
    "Save these forecast data for later use via the Skafos SDK. This requires specifying a schema for how we want to store these records."
   ]
  },
  {
   "cell_type": "code",
   "execution_count": 12,
   "metadata": {},
   "outputs": [],
   "source": [
    "# types here are as-specified in SQL (CQL really) rather than python\n",
    "schema = {\n",
    "    \"table_name\": \"weather_forecast_by_zip\",\n",
    "    \"options\": {\n",
    "        \"primary_key\": ['date', 'date_fetched', 'zipcode', 'source'],\n",
    "        \"order_by\": ['date_fetched desc']\n",
    "    },\n",
    "    \"columns\": {\n",
    "        'source': 'text',\n",
    "        'date_fetched': 'date',\n",
    "        'date': 'date',\n",
    "        'zipcode': 'text',\n",
    "        'latitude': 'float',\n",
    "        'longitude': 'float',\n",
    "        'tmax': 'float',\n",
    "        'tmin': 'float',\n",
    "        'humidity': 'float',\n",
    "        'wind_speed': 'float',\n",
    "        'pressure': 'float',\n",
    "        'precip_total': 'float',\n",
    "        'precip_prob': 'float',\n",
    "        'sunrise': 'timestamp',\n",
    "        'sunset': 'timestamp',\n",
    "        'cloud_cover': 'float',\n",
    "        'heat_index': 'float'\n",
    "    }\n",
    "}"
   ]
  },
  {
   "cell_type": "code",
   "execution_count": 13,
   "metadata": {},
   "outputs": [],
   "source": [
    "data_out = forecast_data.dropna().to_dict(orient='records')"
   ]
  },
  {
   "cell_type": "code",
   "execution_count": 16,
   "metadata": {},
   "outputs": [
    {
     "name": "stdout",
     "output_type": "stream",
     "text": [
      "2018-01-05 20:07:25,260 - skafossdk.data_engine - INFO - Saving Data ...\n",
      "2018-01-05 20:07:25,262 - skafossdk.data_engine - INFO - Sending msg...\n"
     ]
    }
   ],
   "source": [
    "dataresult = skafos.engine.save(schema, data_out).result()"
   ]
  },
  {
   "cell_type": "code",
   "execution_count": 17,
   "metadata": {},
   "outputs": [
    {
     "data": {
      "text/plain": [
       "{'data': [{'success': True}]}"
      ]
     },
     "execution_count": 17,
     "metadata": {},
     "output_type": "execute_result"
    }
   ],
   "source": [
    "dataresult"
   ]
  },
  {
   "cell_type": "code",
   "execution_count": null,
   "metadata": {},
   "outputs": [],
   "source": []
  }
 ],
 "metadata": {
  "kernelspec": {
   "display_name": "Python 3",
   "language": "python",
   "name": "python3"
  },
  "language_info": {
   "codemirror_mode": {
    "name": "ipython",
    "version": 3
   },
   "file_extension": ".py",
   "mimetype": "text/x-python",
   "name": "python",
   "nbconvert_exporter": "python",
   "pygments_lexer": "ipython3",
   "version": "3.6.2"
  }
 },
 "nbformat": 4,
 "nbformat_minor": 2
}
