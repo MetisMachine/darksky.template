{
 "cells": [
  {
   "cell_type": "code",
   "execution_count": 43,
   "metadata": {
    "collapsed": true
   },
   "outputs": [],
   "source": [
    "import os\n",
    "import requests\n",
    "from datetime import datetime\n",
    "import pandas as pd"
   ]
  },
  {
   "cell_type": "code",
   "execution_count": 11,
   "metadata": {
    "collapsed": true
   },
   "outputs": [],
   "source": [
    "# Weather API Details\n",
    "weather_api_key = os.environ['DARKSKY_KEY']\n",
    "weather_api_url = \"https://api.darksky.net/forecast/\"\n",
    "\n",
    "# ZipCode to Long, Lat API Details\n",
    "location_api_key = os.environ['ZIPCODEAPI_KEY']\n",
    "location_api_url = \"https://www.zipcodeapi.com/rest/\"   "
   ]
  },
  {
   "cell_type": "code",
   "execution_count": 12,
   "metadata": {
    "collapsed": true
   },
   "outputs": [],
   "source": [
    "def get_location_for_zip(zipcode):\n",
    "    url = location_api_url + location_api_key + '/info.json/' + str(zipcode).strip() + '/degrees'\n",
    "    print('fetching {}'.format(url))\n",
    "    return requests.get(url).json()"
   ]
  },
  {
   "cell_type": "code",
   "execution_count": 13,
   "metadata": {
    "collapsed": true
   },
   "outputs": [],
   "source": [
    "def get_forecast(lon, lat):\n",
    "    url = weather_api_url + weather_api_key + '/{},{}'.format(lat, lon)\n",
    "    print('fetching {}'.format(url))\n",
    "    return requests.get(url).json()"
   ]
  },
  {
   "cell_type": "code",
   "execution_count": 15,
   "metadata": {
    "collapsed": true
   },
   "outputs": [],
   "source": [
    "location_zipcodes = [\"23250\"]  # 23250 Richmond Airport"
   ]
  },
  {
   "cell_type": "code",
   "execution_count": 34,
   "metadata": {
    "collapsed": true
   },
   "outputs": [],
   "source": [
    "forecasts = get_forecast_for_zips(location_zipcodes)"
   ]
  },
  {
   "cell_type": "code",
   "execution_count": 40,
   "metadata": {
    "collapsed": true
   },
   "outputs": [],
   "source": [
    "def forecast_rows(zipcodes):\n",
    "    date_fetched = datetime.now()\n",
    "    for zipcode in zipcodes:\n",
    "        ll = get_location_for_zip(zipcode)\n",
    "        forecast = get_forecast(ll['lng'], ll['lat'])\n",
    "        for day in forecast['daily']['data']:\n",
    "            yield {\n",
    "                'source': 'Darksky',\n",
    "                'date_fetched': date_fetched,\n",
    "                'date': datetime.fromtimestamp(day['time']),\n",
    "                'zipcode': zipcode,\n",
    "                'latitude': ll['lat'],\n",
    "                'longitude': ll['lng'],\n",
    "                'tmax': day['temperatureHigh'],\n",
    "                'tmin': day['temperatureLow'],\n",
    "                'humidity': day['humidity'],\n",
    "                'wind_speed': day['windSpeed'],\n",
    "                'pressure': day['pressure'],\n",
    "                'precip_total': day['precipIntensityMax'],\n",
    "                'precip_prob': day['precipProbability'],\n",
    "                'sunrise': datetime.fromtimestamp(day['sunriseTime']),\n",
    "                'sunset': datetime.fromtimestamp(day['sunsetTime']),\n",
    "                'cloud_cover': day['cloudCover'],\n",
    "                'heat_index': day['apparentTemperatureHigh']\n",
    "            }"
   ]
  },
  {
   "cell_type": "code",
   "execution_count": 46,
   "metadata": {},
   "outputs": [
    {
     "name": "stdout",
     "output_type": "stream",
     "text": [
      "fetching https://www.zipcodeapi.com/rest/XJyHXErW0Xzm6WqyPPJDZrlSKse2jlHh4gY2UqYUoyhvuI3kxNXwejpZMD25ZJm3/info.json/23250/degrees\n",
      "fetching https://api.darksky.net/forecast/0ab192d88a91b5cbf1904ee551f58b2c/37.504787,-77.320651\n"
     ]
    }
   ],
   "source": [
    "forecast_data = pd.DataFrame(forecast_rows(location_zipcodes))"
   ]
  },
  {
   "cell_type": "code",
   "execution_count": 47,
   "metadata": {},
   "outputs": [
    {
     "data": {
      "text/html": [
       "<div>\n",
       "<style scoped>\n",
       "    .dataframe tbody tr th:only-of-type {\n",
       "        vertical-align: middle;\n",
       "    }\n",
       "\n",
       "    .dataframe tbody tr th {\n",
       "        vertical-align: top;\n",
       "    }\n",
       "\n",
       "    .dataframe thead th {\n",
       "        text-align: right;\n",
       "    }\n",
       "</style>\n",
       "<table border=\"1\" class=\"dataframe\">\n",
       "  <thead>\n",
       "    <tr style=\"text-align: right;\">\n",
       "      <th></th>\n",
       "      <th>cloud_cover</th>\n",
       "      <th>date</th>\n",
       "      <th>date_fetched</th>\n",
       "      <th>heat_index</th>\n",
       "      <th>humidity</th>\n",
       "      <th>latitude</th>\n",
       "      <th>longitude</th>\n",
       "      <th>precip_prob</th>\n",
       "      <th>precip_total</th>\n",
       "      <th>pressure</th>\n",
       "      <th>source</th>\n",
       "      <th>sunrise</th>\n",
       "      <th>sunset</th>\n",
       "      <th>tmax</th>\n",
       "      <th>tmin</th>\n",
       "      <th>wind_speed</th>\n",
       "      <th>zipcode</th>\n",
       "    </tr>\n",
       "  </thead>\n",
       "  <tbody>\n",
       "    <tr>\n",
       "      <th>0</th>\n",
       "      <td>0.48</td>\n",
       "      <td>2017-12-22</td>\n",
       "      <td>2017-12-22 15:56:54.269976</td>\n",
       "      <td>59.75</td>\n",
       "      <td>0.73</td>\n",
       "      <td>37.504787</td>\n",
       "      <td>-77.320651</td>\n",
       "      <td>0.06</td>\n",
       "      <td>0.0098</td>\n",
       "      <td>1022.55</td>\n",
       "      <td>Darksky</td>\n",
       "      <td>2017-12-22 07:22:10</td>\n",
       "      <td>2017-12-22 16:56:22</td>\n",
       "      <td>59.75</td>\n",
       "      <td>46.32</td>\n",
       "      <td>2.92</td>\n",
       "      <td>23250</td>\n",
       "    </tr>\n",
       "    <tr>\n",
       "      <th>1</th>\n",
       "      <td>0.72</td>\n",
       "      <td>2017-12-23</td>\n",
       "      <td>2017-12-22 15:56:54.269976</td>\n",
       "      <td>69.75</td>\n",
       "      <td>0.78</td>\n",
       "      <td>37.504787</td>\n",
       "      <td>-77.320651</td>\n",
       "      <td>0.44</td>\n",
       "      <td>0.0302</td>\n",
       "      <td>1013.96</td>\n",
       "      <td>Darksky</td>\n",
       "      <td>2017-12-23 07:22:37</td>\n",
       "      <td>2017-12-23 16:56:53</td>\n",
       "      <td>69.75</td>\n",
       "      <td>42.20</td>\n",
       "      <td>9.47</td>\n",
       "      <td>23250</td>\n",
       "    </tr>\n",
       "    <tr>\n",
       "      <th>2</th>\n",
       "      <td>0.74</td>\n",
       "      <td>2017-12-24</td>\n",
       "      <td>2017-12-22 15:56:54.269976</td>\n",
       "      <td>43.54</td>\n",
       "      <td>0.70</td>\n",
       "      <td>37.504787</td>\n",
       "      <td>-77.320651</td>\n",
       "      <td>0.15</td>\n",
       "      <td>0.0012</td>\n",
       "      <td>1018.92</td>\n",
       "      <td>Darksky</td>\n",
       "      <td>2017-12-24 07:23:01</td>\n",
       "      <td>2017-12-24 16:57:26</td>\n",
       "      <td>46.23</td>\n",
       "      <td>37.82</td>\n",
       "      <td>5.38</td>\n",
       "      <td>23250</td>\n",
       "    </tr>\n",
       "  </tbody>\n",
       "</table>\n",
       "</div>"
      ],
      "text/plain": [
       "   cloud_cover       date               date_fetched  heat_index  humidity  \\\n",
       "0         0.48 2017-12-22 2017-12-22 15:56:54.269976       59.75      0.73   \n",
       "1         0.72 2017-12-23 2017-12-22 15:56:54.269976       69.75      0.78   \n",
       "2         0.74 2017-12-24 2017-12-22 15:56:54.269976       43.54      0.70   \n",
       "\n",
       "    latitude  longitude  precip_prob  precip_total  pressure   source  \\\n",
       "0  37.504787 -77.320651         0.06        0.0098   1022.55  Darksky   \n",
       "1  37.504787 -77.320651         0.44        0.0302   1013.96  Darksky   \n",
       "2  37.504787 -77.320651         0.15        0.0012   1018.92  Darksky   \n",
       "\n",
       "              sunrise              sunset   tmax   tmin  wind_speed zipcode  \n",
       "0 2017-12-22 07:22:10 2017-12-22 16:56:22  59.75  46.32        2.92   23250  \n",
       "1 2017-12-23 07:22:37 2017-12-23 16:56:53  69.75  42.20        9.47   23250  \n",
       "2 2017-12-24 07:23:01 2017-12-24 16:57:26  46.23  37.82        5.38   23250  "
      ]
     },
     "execution_count": 47,
     "metadata": {},
     "output_type": "execute_result"
    }
   ],
   "source": [
    "forecast_data.iloc[:3]"
   ]
  },
  {
   "cell_type": "code",
   "execution_count": null,
   "metadata": {
    "collapsed": true
   },
   "outputs": [],
   "source": []
  }
 ],
 "metadata": {
  "kernelspec": {
   "display_name": "Python 3",
   "language": "python",
   "name": "python3"
  },
  "language_info": {
   "codemirror_mode": {
    "name": "ipython",
    "version": 3
   },
   "file_extension": ".py",
   "mimetype": "text/x-python",
   "name": "python",
   "nbconvert_exporter": "python",
   "pygments_lexer": "ipython3",
   "version": "3.6.0"
  }
 },
 "nbformat": 4,
 "nbformat_minor": 2
}
